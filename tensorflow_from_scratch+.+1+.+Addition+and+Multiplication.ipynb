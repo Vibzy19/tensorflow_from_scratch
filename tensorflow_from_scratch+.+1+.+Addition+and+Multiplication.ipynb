{
 "cells": [
  {
   "cell_type": "code",
   "execution_count": 2,
   "metadata": {
    "collapsed": true
   },
   "outputs": [],
   "source": [
    "import tensorflow as tf"
   ]
  },
  {
   "cell_type": "code",
   "execution_count": 5,
   "metadata": {
    "collapsed": false
   },
   "outputs": [],
   "source": [
    "a = tf.placeholder(\"float\") #this would be the same as \"float a;\"\n",
    "b = tf.placeholder(\"float\") "
   ]
  },
  {
   "cell_type": "code",
   "execution_count": 9,
   "metadata": {
    "collapsed": false
   },
   "outputs": [],
   "source": [
    "mult = tf.multiply(a, b) #Multiplying the given variables\n",
    "add = tf.add(a ,b) #Adding the given variables"
   ]
  },
  {
   "cell_type": "code",
   "execution_count": 15,
   "metadata": {
    "collapsed": false
   },
   "outputs": [
    {
     "name": "stdout",
     "output_type": "stream",
     "text": [
      "12.000000 is the Multiplication Result\n",
      "12.000000 is the Addition Result\n"
     ]
    }
   ],
   "source": [
    "#Tensorflow works in a black box called session\n",
    "\n",
    "#In this session we can see that we are running an instance of the session on the function that we want to run\n",
    "#Here, we are running a session on the Multiplication and the Addition functions that we had created before\n",
    "\n",
    "#We pass a feed_dict parameter which contains the values for the variables which we had instantiated as placeholders\n",
    "with tf.Session() as sess: \n",
    "    print(\"%f is the Multiplication Result\" % sess.run(mult, feed_dict={a: 6, b: 2})) \n",
    "    print(\"%f is the Addition Result\" % sess.run(add, feed_dict={a: 3, b: 9}))\n",
    "    "
   ]
  }
 ],
 "metadata": {
  "kernelspec": {
   "display_name": "Python [conda root]",
   "language": "python",
   "name": "conda-root-py"
  },
  "language_info": {
   "codemirror_mode": {
    "name": "ipython",
    "version": 3
   },
   "file_extension": ".py",
   "mimetype": "text/x-python",
   "name": "python",
   "nbconvert_exporter": "python",
   "pygments_lexer": "ipython3",
   "version": "3.5.2"
  }
 },
 "nbformat": 4,
 "nbformat_minor": 2
}
